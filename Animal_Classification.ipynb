{
 "cells": [
  {
   "cell_type": "code",
   "execution_count": 5,
   "metadata": {},
   "outputs": [],
   "source": [
    "# %pip install kagglehub --quiet\n",
    "import kagglehub\n",
    "import shutil\n",
    "import os\n",
    "import matplotlib.pyplot as plt\n",
    "import numpy as np\n",
    "import pandas as pd\n",
    "import tensorflow as tf"
   ]
  },
  {
   "cell_type": "markdown",
   "metadata": {},
   "source": [
    "### Downloading the data\n",
    "\n",
    "This script downloads the Animals10 dataset and organizes it into a flat directory structure. It renames the Italian class folder names to English using a translation dictionary. Finally, it creates a Pandas DataFrame with image file paths and their corresponding labels for training."
   ]
  },
  {
   "cell_type": "code",
   "execution_count": null,
   "metadata": {},
   "outputs": [
    {
     "name": "stdout",
     "output_type": "stream",
     "text": [
      "Warning: Looks like you're using an outdated `kagglehub` version (installed: 0.3.10), please consider upgrading to the latest version (0.3.11).\n",
      "Downloading from https://www.kaggle.com/api/v1/datasets/download/alessiocorrado99/animals10?dataset_version_number=2...\n"
     ]
    },
    {
     "name": "stderr",
     "output_type": "stream",
     "text": [
      "100%|██████████| 586M/586M [00:07<00:00, 84.1MB/s] "
     ]
    },
    {
     "name": "stdout",
     "output_type": "stream",
     "text": [
      "Extracting files...\n"
     ]
    },
    {
     "name": "stderr",
     "output_type": "stream",
     "text": [
      "\n"
     ]
    },
    {
     "name": "stdout",
     "output_type": "stream",
     "text": [
      "Dataset downloaded and organized in './data' directory.\n"
     ]
    }
   ],
   "source": [
    "path = kagglehub.dataset_download(\"alessiocorrado99/animals10\")\n",
    "\n",
    "translate = {\n",
    "    \"cane\": \"dog\",\n",
    "    \"cavallo\": \"horse\",\n",
    "    \"elefante\": \"elephant\",\n",
    "    \"farfalla\": \"butterfly\",\n",
    "    \"gallina\": \"chicken\",\n",
    "    \"gatto\": \"cat\",\n",
    "    \"mucca\": \"cow\",\n",
    "    \"pecora\": \"sheep\",\n",
    "    \"ragno\": \"spider\",\n",
    "    \"scoiattolo\": \"squirrel\",\n",
    "}\n",
    "\n",
    "os.makedirs(\"./data\", exist_ok=True)\n",
    "shutil.move(path, \"./data\")\n",
    "for directory in os.listdir(\"./data/2/raw-img\"):\n",
    "    full_path = os.path.join(\"./data/2/raw-img\", directory)\n",
    "    if os.path.isdir(full_path):\n",
    "        shutil.move(full_path, \"./data\")\n",
    "shutil.rmtree(\"./data/2\")\n",
    "\n",
    "for folder in os.listdir(\"./data\"):\n",
    "    full_path = os.path.join(\"./data\", folder)\n",
    "    if os.path.isdir(full_path):\n",
    "        new_folder_name = translate.get(folder, folder)\n",
    "        new_full_path = os.path.join(\"./data\", new_folder_name)\n",
    "        if new_full_path != full_path:\n",
    "            os.rename(full_path, new_full_path)\n",
    "\n",
    "print(\"Dataset downloaded and organized in './data' directory.\")"
   ]
  },
  {
   "cell_type": "code",
   "execution_count": 9,
   "metadata": {},
   "outputs": [
    {
     "data": {
      "application/vnd.microsoft.datawrangler.viewer.v0+json": {
       "columns": [
        {
         "name": "index",
         "rawType": "int64",
         "type": "integer"
        },
        {
         "name": "file_path",
         "rawType": "object",
         "type": "string"
        },
        {
         "name": "label",
         "rawType": "category",
         "type": "unknown"
        }
       ],
       "conversionMethod": "pd.DataFrame",
       "ref": "d7784c9f-cf43-4489-bff0-a10a7579c91b",
       "rows": [
        [
         "0",
         "./data\\butterfly\\e030b20928e90021d85a5854ee454296eb70e3c818b413449df6c87ca3ed_640.jpg",
         "butterfly"
        ],
        [
         "1",
         "./data\\butterfly\\e030b20929e90021d85a5854ee454296eb70e3c818b413449df6c87ca3ed_640.jpg",
         "butterfly"
        ],
        [
         "2",
         "./data\\butterfly\\e030b2092be90021d85a5854ee454296eb70e3c818b413449df6c87ca3ed_640.jpg",
         "butterfly"
        ],
        [
         "3",
         "./data\\butterfly\\e030b2092ce90021d85a5854ee454296eb70e3c818b413449df6c87ca3ed_640.jpg",
         "butterfly"
        ],
        [
         "4",
         "./data\\butterfly\\e030b2092de90021d85a5854ee454296eb70e3c818b413449df6c87ca3ed_640.jpg",
         "butterfly"
        ],
        [
         "5",
         "./data\\butterfly\\e030b20a20e90021d85a5854ee454296eb70e3c818b413449df6c87ca3ed_640.jpg",
         "butterfly"
        ],
        [
         "6",
         "./data\\butterfly\\e132b60e2af51c22d2524518b7444f92e37fe5d404b0144390f8c770a3e5b7_640.jpg",
         "butterfly"
        ],
        [
         "7",
         "./data\\butterfly\\e134b50a2efc1c22d2524518b7444f92e37fe5d404b0144390f8c770a1edb6_640.jpg",
         "butterfly"
        ],
        [
         "8",
         "./data\\butterfly\\e830b30a20f5003ed1584d05fb1d4e9fe777ead218ac104497f5c97faee9bdba_640.png",
         "butterfly"
        ],
        [
         "9",
         "./data\\butterfly\\e830b30a20f6033ed1584d05fb1d4e9fe777ead218ac104497f5c97faeebb5bb_640.png",
         "butterfly"
        ]
       ],
       "shape": {
        "columns": 2,
        "rows": 10
       }
      },
      "text/html": [
       "<div>\n",
       "<style scoped>\n",
       "    .dataframe tbody tr th:only-of-type {\n",
       "        vertical-align: middle;\n",
       "    }\n",
       "\n",
       "    .dataframe tbody tr th {\n",
       "        vertical-align: top;\n",
       "    }\n",
       "\n",
       "    .dataframe thead th {\n",
       "        text-align: right;\n",
       "    }\n",
       "</style>\n",
       "<table border=\"1\" class=\"dataframe\">\n",
       "  <thead>\n",
       "    <tr style=\"text-align: right;\">\n",
       "      <th></th>\n",
       "      <th>file_path</th>\n",
       "      <th>label</th>\n",
       "    </tr>\n",
       "  </thead>\n",
       "  <tbody>\n",
       "    <tr>\n",
       "      <th>0</th>\n",
       "      <td>./data\\butterfly\\e030b20928e90021d85a5854ee454...</td>\n",
       "      <td>butterfly</td>\n",
       "    </tr>\n",
       "    <tr>\n",
       "      <th>1</th>\n",
       "      <td>./data\\butterfly\\e030b20929e90021d85a5854ee454...</td>\n",
       "      <td>butterfly</td>\n",
       "    </tr>\n",
       "    <tr>\n",
       "      <th>2</th>\n",
       "      <td>./data\\butterfly\\e030b2092be90021d85a5854ee454...</td>\n",
       "      <td>butterfly</td>\n",
       "    </tr>\n",
       "    <tr>\n",
       "      <th>3</th>\n",
       "      <td>./data\\butterfly\\e030b2092ce90021d85a5854ee454...</td>\n",
       "      <td>butterfly</td>\n",
       "    </tr>\n",
       "    <tr>\n",
       "      <th>4</th>\n",
       "      <td>./data\\butterfly\\e030b2092de90021d85a5854ee454...</td>\n",
       "      <td>butterfly</td>\n",
       "    </tr>\n",
       "    <tr>\n",
       "      <th>5</th>\n",
       "      <td>./data\\butterfly\\e030b20a20e90021d85a5854ee454...</td>\n",
       "      <td>butterfly</td>\n",
       "    </tr>\n",
       "    <tr>\n",
       "      <th>6</th>\n",
       "      <td>./data\\butterfly\\e132b60e2af51c22d2524518b7444...</td>\n",
       "      <td>butterfly</td>\n",
       "    </tr>\n",
       "    <tr>\n",
       "      <th>7</th>\n",
       "      <td>./data\\butterfly\\e134b50a2efc1c22d2524518b7444...</td>\n",
       "      <td>butterfly</td>\n",
       "    </tr>\n",
       "    <tr>\n",
       "      <th>8</th>\n",
       "      <td>./data\\butterfly\\e830b30a20f5003ed1584d05fb1d4...</td>\n",
       "      <td>butterfly</td>\n",
       "    </tr>\n",
       "    <tr>\n",
       "      <th>9</th>\n",
       "      <td>./data\\butterfly\\e830b30a20f6033ed1584d05fb1d4...</td>\n",
       "      <td>butterfly</td>\n",
       "    </tr>\n",
       "  </tbody>\n",
       "</table>\n",
       "</div>"
      ],
      "text/plain": [
       "                                           file_path      label\n",
       "0  ./data\\butterfly\\e030b20928e90021d85a5854ee454...  butterfly\n",
       "1  ./data\\butterfly\\e030b20929e90021d85a5854ee454...  butterfly\n",
       "2  ./data\\butterfly\\e030b2092be90021d85a5854ee454...  butterfly\n",
       "3  ./data\\butterfly\\e030b2092ce90021d85a5854ee454...  butterfly\n",
       "4  ./data\\butterfly\\e030b2092de90021d85a5854ee454...  butterfly\n",
       "5  ./data\\butterfly\\e030b20a20e90021d85a5854ee454...  butterfly\n",
       "6  ./data\\butterfly\\e132b60e2af51c22d2524518b7444...  butterfly\n",
       "7  ./data\\butterfly\\e134b50a2efc1c22d2524518b7444...  butterfly\n",
       "8  ./data\\butterfly\\e830b30a20f5003ed1584d05fb1d4...  butterfly\n",
       "9  ./data\\butterfly\\e830b30a20f6033ed1584d05fb1d4...  butterfly"
      ]
     },
     "execution_count": 9,
     "metadata": {},
     "output_type": "execute_result"
    }
   ],
   "source": [
    "file_names = []\n",
    "labels = []\n",
    "\n",
    "for folder in os.listdir(\"./data\"):\n",
    "    for file in os.listdir(os.path.join(\"./data\", folder)):\n",
    "        full_path = os.path.join(\"./data\", folder, file)\n",
    "        if os.path.isfile(full_path):\n",
    "            file_names.append(full_path)\n",
    "            labels.append(folder)\n",
    "\n",
    "meta_data = pd.DataFrame({\n",
    "    'file_path': file_names,\n",
    "    'label': labels\n",
    "})\n",
    "meta_data['label'] = meta_data['label'].astype('category')\n",
    "meta_data.head(10)"
   ]
  },
  {
   "cell_type": "code",
   "execution_count": 12,
   "metadata": {},
   "outputs": [
    {
     "data": {
      "image/png": "[encoded data removed]",
      "text/plain": [
       "<Figure size 1000x600 with 1 Axes>"
      ]
     },
     "metadata": {},
     "output_type": "display_data"
    }
   ],
   "source": [
    "meta_data[\"label\"].value_counts().plot(kind='bar', figsize=(10, 6));"
   ]
  }
 ],
 "metadata": {
  "kernelspec": {
   "display_name": "Python 3",
   "language": "python",
   "name": "python3"
  },
  "language_info": {
   "codemirror_mode": {
    "name": "ipython",
    "version": 3
   },
   "file_extension": ".py",
   "mimetype": "text/x-python",
   "name": "python",
   "nbconvert_exporter": "python",
   "pygments_lexer": "ipython3",
   "version": "3.12.1"
  }
 },
 "nbformat": 4,
 "nbformat_minor": 2
}
